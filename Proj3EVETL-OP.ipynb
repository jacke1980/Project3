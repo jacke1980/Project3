{
 "cells": [
  {
   "cell_type": "code",
   "execution_count": 1,
   "id": "40e53fb3",
   "metadata": {},
   "outputs": [],
   "source": [
    "# Dependencies and Setup\n",
    "import matplotlib.pyplot as plt\n",
    "import json5\n",
    "import pandas as pd\n",
    "import numpy as np\n",
    "import requests\n",
    "import time\n",
    "import pymongo\n",
    "from datetime import datetime\n",
    "from scipy import stats\n",
    "from scipy.stats import linregress\n",
    "from citipy import citipy"
   ]
  },
  {
   "cell_type": "code",
   "execution_count": 2,
   "id": "a1a3439c",
   "metadata": {},
   "outputs": [],
   "source": [
    "from config import EV_Api_key\n"
   ]
  },
  {
   "cell_type": "code",
   "execution_count": 3,
   "id": "7f7158fe",
   "metadata": {},
   "outputs": [],
   "source": [
    "#Create the Query URL to\n",
    "\n",
    "query_url= \"https://developer.nrel.gov/api/alt-fuel-stations/v1.json?fuel_type=ELEC&ev_network=\"\n",
    "api_key = \"&api_key=\"\n",
    "\n",
    "#Create the Variables to hold the EVTypes and Collections that will be used in the Mongo DB\n",
    "evtypes = [\"Tesla\",\"Volta\",\"Greenlots\",\"FLO\"]\n",
    "collections=[\"tesla_stations_us\",\"volta_stations_us\",\"greenlots_stations_us\",\"flo_stations_us\"]\n",
    "\n",
    "# Connect to the MongoDB\n",
    "conn = 'mongodb://localhost:27017'\n",
    "client = pymongo.MongoClient(conn)\n",
    "\n",
    "# Declare the Mongo Database\n",
    "db = client.EV_db\n",
    "\n",
    "# Call the API and Loop through each EV Provider to create the Collections\n",
    "for (evtype,collection) in zip(evtypes,collections):\n",
    "    results =[]\n",
    "    try:\n",
    "        response = requests.get(query_url + evtype + api_key+EV_Api_key).json()\n",
    "        \n",
    "        for station in response['fuel_stations']:\n",
    "\n",
    "            EV_dict = {\n",
    "                \"access_code\":station['access_code'],\n",
    "                \"facility_type\":station['facility_type'],\n",
    "                \"ev_pricing\":station['ev_pricing'],\n",
    "                \"ev_connector_types\":station['ev_connector_types'][0],\n",
    "                \"access_days_time\":station['access_days_time'],\n",
    "                \"open_date\":  station['open_date'],\n",
    "                \"latitude\":station['latitude'],\n",
    "                \"longitude\":station['longitude'],\n",
    "                \"street_address\":station['street_address'],\n",
    "                \"city\":station['city'],\n",
    "                \"zip\":station['zip'],\n",
    "                \"state\":station['state']\n",
    "\n",
    "            }\n",
    "            results.append(EV_dict)\n",
    "       \n",
    "\n",
    "    except:\n",
    "        print('info not found')\n",
    "        \n",
    "    # Declare the collection\n",
    "\n",
    "    stations = db[collection]\n",
    " \n",
    "    # Insert a document into the collection\n",
    "    for document in results:\n",
    "        stations.insert_one(document) "
   ]
  }
 ],
 "metadata": {
  "kernelspec": {
   "display_name": "Python 3 (ipykernel)",
   "language": "python",
   "name": "python3"
  },
  "language_info": {
   "codemirror_mode": {
    "name": "ipython",
    "version": 3
   },
   "file_extension": ".py",
   "mimetype": "text/x-python",
   "name": "python",
   "nbconvert_exporter": "python",
   "pygments_lexer": "ipython3",
   "version": "3.9.7"
  }
 },
 "nbformat": 4,
 "nbformat_minor": 5
}
