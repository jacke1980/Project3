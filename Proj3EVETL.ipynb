{
 "cells": [
  {
   "cell_type": "code",
   "execution_count": 1,
   "id": "40e53fb3",
   "metadata": {},
   "outputs": [],
   "source": [
    "# Dependencies and Setup\n",
    "import matplotlib.pyplot as plt\n",
    "import json5\n",
    "import pandas as pd\n",
    "import numpy as np\n",
    "import requests\n",
    "import time\n",
    "import pymongo\n",
    "#from prettyprinter import pprint\n",
    "from datetime import datetime\n",
    "from scipy import stats\n",
    "from scipy.stats import linregress\n",
    "from citipy import citipy"
   ]
  },
  {
   "cell_type": "code",
   "execution_count": 2,
   "id": "a1a3439c",
   "metadata": {},
   "outputs": [],
   "source": [
    "from config import EV_Api_key\n"
   ]
  },
  {
   "cell_type": "code",
   "execution_count": 3,
   "id": "ecfd84eb",
   "metadata": {},
   "outputs": [],
   "source": [
    "query_url=f'https://developer.nrel.gov/api/alt-fuel-stations/v1.json?fuel_type=ELEC&ev_network=Tesla&api_key={EV_Api_key}'"
   ]
  },
  {
   "cell_type": "code",
   "execution_count": 4,
   "id": "97b140f8",
   "metadata": {},
   "outputs": [],
   "source": [
    "response=requests.get(query_url).json()"
   ]
  },
  {
   "cell_type": "code",
   "execution_count": 5,
   "id": "617e428b",
   "metadata": {},
   "outputs": [
    {
     "name": "stdout",
     "output_type": "stream",
     "text": [
      "AL\n"
     ]
    }
   ],
   "source": [
    "g=response['fuel_stations'][0]['state']\n",
    "print(g)"
   ]
  },
  {
   "cell_type": "markdown",
   "id": "4dbf3cec",
   "metadata": {},
   "source": [
    "# TESLA"
   ]
  },
  {
   "cell_type": "code",
   "execution_count": 6,
   "id": "7f7158fe",
   "metadata": {},
   "outputs": [],
   "source": [
    "results=[]\n",
    "try:\n",
    "    response = requests.get(query_url).json()\n",
    "\n",
    "    #print(response['fuel_stations'])\n",
    "    for station in response['fuel_stations']:\n",
    "\n",
    "        EV_dict_tesla = {\n",
    "            \"access_code\":station['access_code'],\n",
    "            \"facility_type\":station['facility_type'],\n",
    "            \"ev_pricing\":station['ev_pricing'],\n",
    "            \"ev_connector_types\":station['ev_connector_types'][0],\n",
    "            \"access_days_time\":station['access_days_time'],\n",
    "            \"open_date\":  station['open_date'],\n",
    "            \"latitude\":station['latitude'],\n",
    "            \"longitude\":station['longitude'],\n",
    "            \"street_address\":station['street_address'],\n",
    "            \"city\":station['city'],\n",
    "            \"zip\":station['zip'],\n",
    "            \"state\":station['state']\n",
    "\n",
    "\n",
    "        }\n",
    "        results.append(EV_dict_tesla)\n",
    "   # print(response['fuel_stations'][i]['city'])\n",
    "\n",
    "except:\n",
    "    print('info not found')\n",
    "    pass"
   ]
  },
  {
   "cell_type": "code",
   "execution_count": 7,
   "id": "61a3b686",
   "metadata": {},
   "outputs": [],
   "source": [
    "# The default port used by MongoDB is 27017\n",
    "# https://docs.mongodb.com/manual/reference/default-mongodb-port/\n",
    "conn = 'mongodb://localhost:27017'\n",
    "client = pymongo.MongoClient(conn)\n",
    "\n",
    "# Declare the database\n",
    "db = client.EV_db\n",
    "\n",
    "# Declare the collection\n",
    "tesla = db.tesla_stations_us"
   ]
  },
  {
   "cell_type": "code",
   "execution_count": 8,
   "id": "7126b0ca",
   "metadata": {},
   "outputs": [],
   "source": [
    "# Part I\n",
    "# A dictionary that represents the document to be inserted\n",
    "#results\n",
    "\n",
    "for document in results:\n",
    "    tesla.insert_one(document) "
   ]
  },
  {
   "cell_type": "markdown",
   "id": "0d00391d",
   "metadata": {},
   "source": [
    "# VOLTA"
   ]
  },
  {
   "cell_type": "code",
   "execution_count": 9,
   "id": "c9527d68",
   "metadata": {},
   "outputs": [],
   "source": [
    "query_url=f'https://developer.nrel.gov/api/alt-fuel-stations/v1.json?fuel_type=ELEC&ev_network=Volta&api_key={EV_Api_key}'\n",
    "response=requests.get(query_url).json()\n",
    "\n",
    "results=[]\n",
    "try:\n",
    "    response = requests.get(query_url).json()\n",
    "\n",
    "    #print(response['fuel_stations'])\n",
    "    for station in response['fuel_stations']:\n",
    "\n",
    "        EV_dict_volta = {\n",
    "            \"access_code\":station['access_code'],\n",
    "            \"facility_type\":station['facility_type'],\n",
    "            \"ev_pricing\":station['ev_pricing'],\n",
    "            \"ev_connector_types\":station['ev_connector_types'][0],\n",
    "            \"access_days_time\":station['access_days_time'],\n",
    "            \"open_date\":  station['open_date'],\n",
    "            \"latitude\":station['latitude'],\n",
    "            \"longitude\":station['longitude'],\n",
    "            \"street_address\":station['street_address'],\n",
    "            \"city\":station['city'],\n",
    "            \"zip\":station['zip'],\n",
    "            \"state\":station['state']\n",
    "\n",
    "\n",
    "        }\n",
    "        results.append(EV_dict_volta)\n",
    "   # print(response['fuel_stations'][i]['city'])\n",
    "\n",
    "except:\n",
    "    print('info not found')\n",
    "    pass\n",
    "\n",
    "# The default port used by MongoDB is 27017\n",
    "# https://docs.mongodb.com/manual/reference/default-mongodb-port/\n",
    "conn = 'mongodb://localhost:27017'\n",
    "client = pymongo.MongoClient(conn)\n",
    "\n",
    "# Declare the database\n",
    "db = client.EV_db\n",
    "\n",
    "# Declare the collection\n",
    "volta = db.volta_stations_us\n",
    "\n",
    "for document in results:\n",
    "    volta.insert_one(document) \n",
    "    \n",
    "    "
   ]
  },
  {
   "cell_type": "markdown",
   "id": "9e9e2be9",
   "metadata": {},
   "source": [
    "# GREENLOTS"
   ]
  },
  {
   "cell_type": "code",
   "execution_count": 10,
   "id": "81c92675",
   "metadata": {},
   "outputs": [],
   "source": [
    "query_url=f'https://developer.nrel.gov/api/alt-fuel-stations/v1.json?fuel_type=ELEC&ev_network=Greenlots&api_key={EV_Api_key}'\n",
    "response=requests.get(query_url).json()\n",
    "\n",
    "results=[]\n",
    "try:\n",
    "    response = requests.get(query_url).json()\n",
    "\n",
    "    #print(response['fuel_stations'])\n",
    "    for station in response['fuel_stations']:\n",
    "\n",
    "        EV_dict_greenlots = {\n",
    "            \"access_code\":station['access_code'],\n",
    "            \"facility_type\":station['facility_type'],\n",
    "            \"ev_pricing\":station['ev_pricing'],\n",
    "            \"ev_connector_types\":station['ev_connector_types'][0],\n",
    "            \"access_days_time\":station['access_days_time'],\n",
    "            \"open_date\":  station['open_date'],\n",
    "            \"latitude\":station['latitude'],\n",
    "            \"longitude\":station['longitude'],\n",
    "            \"street_address\":station['street_address'],\n",
    "            \"city\":station['city'],\n",
    "            \"zip\":station['zip'],\n",
    "            \"state\":station['state']\n",
    "\n",
    "\n",
    "        }\n",
    "        results.append(EV_dict_greenlots)\n",
    "   # print(response['fuel_stations'][i]['city'])\n",
    "\n",
    "except:\n",
    "    print('info not found')\n",
    "    pass\n",
    "\n",
    "# The default port used by MongoDB is 27017\n",
    "# https://docs.mongodb.com/manual/reference/default-mongodb-port/\n",
    "conn = 'mongodb://localhost:27017'\n",
    "client = pymongo.MongoClient(conn)\n",
    "\n",
    "# Declare the database\n",
    "db = client.EV_db\n",
    "\n",
    "# Declare the collection\n",
    "greenlots = db.greenlots_stations_us\n",
    "\n",
    "for document in results:\n",
    "    greenlots.insert_one(document) \n",
    "    "
   ]
  },
  {
   "cell_type": "markdown",
   "id": "5ae3579b",
   "metadata": {},
   "source": [
    "# FLO"
   ]
  },
  {
   "cell_type": "code",
   "execution_count": 11,
   "id": "564792d3",
   "metadata": {},
   "outputs": [],
   "source": [
    "query_url=f'https://developer.nrel.gov/api/alt-fuel-stations/v1.json?fuel_type=ELEC&ev_network=FLO&api_key={EV_Api_key}'\n",
    "response=requests.get(query_url).json()\n",
    "\n",
    "results=[]\n",
    "try:\n",
    "    response = requests.get(query_url).json()\n",
    "\n",
    "    #print(response['fuel_stations'])\n",
    "    for station in response['fuel_stations']:\n",
    "\n",
    "        EV_dict_flo = {\n",
    "            \"access_code\":station['access_code'],\n",
    "            \"facility_type\":station['facility_type'],\n",
    "            \"ev_pricing\":station['ev_pricing'],\n",
    "            \"ev_connector_types\":station['ev_connector_types'][0],\n",
    "            \"access_days_time\":station['access_days_time'],\n",
    "            \"open_date\":  station['open_date'],\n",
    "            \"latitude\":station['latitude'],\n",
    "            \"longitude\":station['longitude'],\n",
    "            \"street_address\":station['street_address'],\n",
    "            \"city\":station['city'],\n",
    "            \"zip\":station['zip'],\n",
    "            \"state\":station['state']\n",
    "\n",
    "\n",
    "        }\n",
    "        results.append(EV_dict_flo)\n",
    "   # print(response['fuel_stations'][i]['city'])\n",
    "\n",
    "except:\n",
    "    print('info not found')\n",
    "    pass\n",
    "\n",
    "# The default port used by MongoDB is 27017\n",
    "# https://docs.mongodb.com/manual/reference/default-mongodb-port/\n",
    "conn = 'mongodb://localhost:27017'\n",
    "client = pymongo.MongoClient(conn)\n",
    "\n",
    "# Declare the database\n",
    "db = client.EV_db\n",
    "\n",
    "# Declare the collection\n",
    "flo = db.flo_stations_us\n",
    "\n",
    "for document in results:\n",
    "    flo.insert_one(document) \n",
    "    "
   ]
  },
  {
   "cell_type": "code",
   "execution_count": null,
   "id": "7f688828",
   "metadata": {},
   "outputs": [],
   "source": []
  }
 ],
 "metadata": {
  "kernelspec": {
   "display_name": "Python 3 (ipykernel)",
   "language": "python",
   "name": "python3"
  },
  "language_info": {
   "codemirror_mode": {
    "name": "ipython",
    "version": 3
   },
   "file_extension": ".py",
   "mimetype": "text/x-python",
   "name": "python",
   "nbconvert_exporter": "python",
   "pygments_lexer": "ipython3",
   "version": "3.9.7"
  }
 },
 "nbformat": 4,
 "nbformat_minor": 5
}
