{
 "cells": [
  {
   "cell_type": "code",
   "execution_count": 2,
   "id": "3fdf4336",
   "metadata": {},
   "outputs": [],
   "source": [
    "# Dependencies and Setup\n",
    "import matplotlib.pyplot as plt\n",
    "import json5\n",
    "import pandas as pd\n",
    "import numpy as np\n",
    "import requests\n",
    "import time\n",
    "import pymongo\n",
    "from prettyprinter import pprint\n",
    "from datetime import datetime\n",
    "from scipy import stats\n",
    "from scipy.stats import linregress\n",
    "from citipy import citipy"
   ]
  },
  {
   "cell_type": "code",
   "execution_count": null,
   "id": "c042f1f2",
   "metadata": {},
   "outputs": [],
   "source": [
    "from config import EV_Api_key\n",
    "\n"
   ]
  },
  {
   "cell_type": "markdown",
   "id": "9671a6c6",
   "metadata": {},
   "source": [
    "### Collecting datasets for Tesla "
   ]
  },
  {
   "cell_type": "code",
   "execution_count": null,
   "id": "9a8699dd",
   "metadata": {},
   "outputs": [],
   "source": [
    "#base_url='https://JlcWLnHJWqVZXwivtOThPQXKQnLaKnWaY4qVXxBZ@developer.nrel.gov/api/alt-fuel-stations/v1.json?limit=1'"
   ]
  },
  {
   "cell_type": "code",
   "execution_count": null,
   "id": "51c5c868",
   "metadata": {},
   "outputs": [],
   "source": [
    "#query_url = f\"https://{EV_Api_key}@developer.nrel.gov/api/alt-fuel-stations/v1.json?limit=4\"\n",
    "#print(query_url )"
   ]
  },
  {
   "cell_type": "code",
   "execution_count": null,
   "id": "04ab1d26",
   "metadata": {},
   "outputs": [],
   "source": [
    "query_url=f'https://developer.nrel.gov/api/alt-fuel-stations/v1.json?fuel_type=ELEC&ev_network=Tesla&api_key={EV_Api_key}'"
   ]
  },
  {
   "cell_type": "code",
   "execution_count": null,
   "id": "0bea2a8a",
   "metadata": {},
   "outputs": [],
   "source": [
    "response=requests.get(query_url).json()\n",
    "#pprint(response)"
   ]
  },
  {
   "cell_type": "code",
   "execution_count": null,
   "id": "fdd0fad7",
   "metadata": {},
   "outputs": [],
   "source": [
    "Total=response['station_locator_url']\n",
    "print(Total)"
   ]
  },
  {
   "cell_type": "code",
   "execution_count": null,
   "id": "43c12d97",
   "metadata": {},
   "outputs": [],
   "source": [
    "ccc=response['station_counts']['total']\n",
    "print(ccc)"
   ]
  },
  {
   "cell_type": "code",
   "execution_count": null,
   "id": "e86e7393",
   "metadata": {},
   "outputs": [],
   "source": [
    "a=response['fuel_stations'][0]['access_code']\n",
    "print(a)"
   ]
  },
  {
   "cell_type": "code",
   "execution_count": null,
   "id": "0b06e9fd",
   "metadata": {},
   "outputs": [],
   "source": [
    "aa=c=response['fuel_stations'][0]['facility_type']\n",
    "print(c)"
   ]
  },
  {
   "cell_type": "code",
   "execution_count": null,
   "id": "b6047bc9",
   "metadata": {},
   "outputs": [],
   "source": [
    "jj=c=response['fuel_stations'][0]['access_days_time']\n",
    "print(jj)"
   ]
  },
  {
   "cell_type": "code",
   "execution_count": null,
   "id": "2de3dca5",
   "metadata": {},
   "outputs": [],
   "source": [
    "yy=response['fuel_stations'][0]['access_days_time_fr']\n",
    "print(yy)"
   ]
  },
  {
   "cell_type": "code",
   "execution_count": null,
   "id": "5e4fc595",
   "metadata": {},
   "outputs": [],
   "source": [
    "hh=response['fuel_stations'][0]['ev_pricing_fr']\n",
    "print(hh)"
   ]
  },
  {
   "cell_type": "code",
   "execution_count": null,
   "id": "fd1e93fe",
   "metadata": {},
   "outputs": [],
   "source": [
    "ii=response['fuel_stations'][0]['ev_connector_types']\n",
    "print(ii)"
   ]
  },
  {
   "cell_type": "code",
   "execution_count": null,
   "id": "8c940059",
   "metadata": {},
   "outputs": [],
   "source": [
    "b=response['fuel_stations'][0]['open_date']\n",
    "print(b)"
   ]
  },
  {
   "cell_type": "code",
   "execution_count": null,
   "id": "134f9f7b",
   "metadata": {},
   "outputs": [],
   "source": [
    "latitude=response['fuel_stations'][0]['latitude']\n",
    "print(latitude)"
   ]
  },
  {
   "cell_type": "code",
   "execution_count": null,
   "id": "4fd3c977",
   "metadata": {},
   "outputs": [],
   "source": [
    "longitude=response['fuel_stations'][0]['longitude']\n",
    "print(longitude)"
   ]
  },
  {
   "cell_type": "code",
   "execution_count": null,
   "id": "da6778f4",
   "metadata": {},
   "outputs": [],
   "source": [
    "c=response['fuel_stations'][0]['facility_type']\n",
    "print(c)"
   ]
  },
  {
   "cell_type": "code",
   "execution_count": null,
   "id": "e07956d2",
   "metadata": {},
   "outputs": [],
   "source": [
    "dd=response['fuel_stations'][0]['street_address']\n",
    "print(dd)"
   ]
  },
  {
   "cell_type": "code",
   "execution_count": null,
   "id": "a9092f10",
   "metadata": {},
   "outputs": [],
   "source": [
    "e=response['fuel_stations'][0]['city']\n",
    "print(e)"
   ]
  },
  {
   "cell_type": "code",
   "execution_count": null,
   "id": "bb4a1a87",
   "metadata": {},
   "outputs": [],
   "source": [
    "f=response['fuel_stations'][0]['zip']\n",
    "print(f)"
   ]
  },
  {
   "cell_type": "code",
   "execution_count": null,
   "id": "1701fa71",
   "metadata": {},
   "outputs": [],
   "source": [
    "g=response['fuel_stations'][0]['state']\n",
    "print(g)"
   ]
  },
  {
   "cell_type": "code",
   "execution_count": null,
   "id": "a06d12fd",
   "metadata": {},
   "outputs": [],
   "source": []
  },
  {
   "cell_type": "code",
   "execution_count": null,
   "id": "6d0c50a2",
   "metadata": {},
   "outputs": [],
   "source": []
  },
  {
   "cell_type": "code",
   "execution_count": null,
   "id": "942c3a64",
   "metadata": {},
   "outputs": [],
   "source": [
    "\n",
    "#access_code=[]\n",
    "facility_type=[]\n",
    "#access_days_time=[]\n",
    "access_days_time_fr=[]\n",
    "#ev_price=[]\n",
    "#ev_connector_type=[]\n",
    "open_date=[]\n",
    "street_address=[]\n",
    "city=[]\n",
    "zip=[]\n",
    "state=[]\n",
    "lat=[]\n",
    "lon=[]\n",
    "\n"
   ]
  },
  {
   "cell_type": "code",
   "execution_count": null,
   "id": "5c9e6f58",
   "metadata": {},
   "outputs": [],
   "source": [
    "for i in range(400):\n",
    "    try:\n",
    "        response = requests.get(query_url).json()\n",
    "        #access_code.append(response['fuel_stations'][i]['access_code'])\n",
    "        facility_type.append(response['fuel_stations'][i]['facility_type'])\n",
    "        #access_days_time.append(response['fuel_stations'][i]['access_days_time'])\n",
    "        access_days_time_fr.append(response['fuel_stations'][i]['access_days_time_fr'])\n",
    "        #ev_price.append(response['fuel_stations'][i]['ev_pricing_fr'])\n",
    "        #ev_connector_type.append=(response['fuel_stations'][i]['ev_connector_types'])\n",
    "        open_date.append(response['fuel_stations'][i]['open_date'])\n",
    "        lat.append(response['fuel_stations'][i]['latitude'])\n",
    "        lon.append(response['fuel_stations'][i]['longitude'])\n",
    "\n",
    "        street_address.append(response['fuel_stations'][i]['street_address'])\n",
    "        city.append(response['fuel_stations'][i]['city'])\n",
    "        zip.append(response['fuel_stations'][i]['zip'])\n",
    "        state.append(response['fuel_stations'][i]['state'])\n",
    "       # print(response['fuel_stations'][i]['city'])\n",
    "    except:\n",
    "        print('info not found')\n",
    "        pass\n",
    "        "
   ]
  },
  {
   "cell_type": "markdown",
   "id": "a3ba24c2",
   "metadata": {},
   "source": [
    "### Insert data to a Mongo Database"
   ]
  },
  {
   "cell_type": "code",
   "execution_count": null,
   "id": "50d28ff3",
   "metadata": {},
   "outputs": [],
   "source": [
    "# The default port used by MongoDB is 27017\n",
    "# https://docs.mongodb.com/manual/reference/default-mongodb-port/\n",
    "conn = 'mongodb://localhost:27017'\n",
    "client = pymongo.MongoClient(conn)\n",
    "\n",
    "# Declare the database\n",
    "db = client.EV_db\n",
    "\n",
    "# Declare the collection\n",
    "tesla = db.tesla"
   ]
  },
  {
   "cell_type": "code",
   "execution_count": null,
   "id": "f9c0ae59",
   "metadata": {},
   "outputs": [],
   "source": [
    "# Part I\n",
    "# A dictionary that represents the document to be inserted\n",
    "\n",
    "EV_dict_tesla = {\n",
    "    \"facility type\":facility_type,\n",
    "    \"Access days time fr\":access_days_time_fr,\n",
    "    \"open_date\":  open_date,\n",
    "    \"latitude\":lat,\n",
    "    \"longitude\":lon,\n",
    "    \"street address\":street_address,\n",
    "    \"city\":city,\n",
    "    \"zip\":zip,\n",
    "    \"state\": state\n",
    "}"
   ]
  },
  {
   "cell_type": "code",
   "execution_count": null,
   "id": "12cca0e0",
   "metadata": {},
   "outputs": [],
   "source": [
    "#Insert the document into the database\n",
    "# The database and collection, if they don't already exist, will be created at this point.\n",
    "tesla.insert_one(EV_dict_tesla)"
   ]
  },
  {
   "cell_type": "code",
   "execution_count": null,
   "id": "2e9a8d12",
   "metadata": {},
   "outputs": [],
   "source": [
    "# Verify results:\n",
    "results = tesla.find()\n",
    "for result in results:\n",
    "    print(result)"
   ]
  },
  {
   "cell_type": "markdown",
   "id": "975840c7",
   "metadata": {},
   "source": [
    "### Insert data to a Panda dataFrame and convert to CSV file"
   ]
  },
  {
   "cell_type": "code",
   "execution_count": null,
   "id": "a6e04c91",
   "metadata": {},
   "outputs": [],
   "source": [
    "EV_data = pd.DataFrame(EV_dict_tesla)\n",
    "EV_data"
   ]
  },
  {
   "cell_type": "code",
   "execution_count": null,
   "id": "0d547539",
   "metadata": {},
   "outputs": [],
   "source": [
    "#EXPORTING DATA\n",
    "#EV_data.to_csv(\"output/evData.csv\", index=True, header=True)"
   ]
  },
  {
   "cell_type": "code",
   "execution_count": null,
   "id": "bb6947b3",
   "metadata": {},
   "outputs": [],
   "source": [
    "#EV_data.to_csv(\"output/evData_100.csv\", index=True, header=True)"
   ]
  },
  {
   "cell_type": "code",
   "execution_count": null,
   "id": "29e28520",
   "metadata": {},
   "outputs": [],
   "source": [
    "#EV_data.to_csv(\"output/evData_300.csv\", index=True, header=True)"
   ]
  },
  {
   "cell_type": "code",
   "execution_count": null,
   "id": "5e51aece",
   "metadata": {},
   "outputs": [],
   "source": [
    "EV_data.to_csv(\"output/evData_400.csv\", index=True, header=True)"
   ]
  },
  {
   "cell_type": "code",
   "execution_count": 3,
   "id": "560aab97",
   "metadata": {},
   "outputs": [
    {
     "data": {
      "text/html": [
       "<div>\n",
       "<style scoped>\n",
       "    .dataframe tbody tr th:only-of-type {\n",
       "        vertical-align: middle;\n",
       "    }\n",
       "\n",
       "    .dataframe tbody tr th {\n",
       "        vertical-align: top;\n",
       "    }\n",
       "\n",
       "    .dataframe thead th {\n",
       "        text-align: right;\n",
       "    }\n",
       "</style>\n",
       "<table border=\"1\" class=\"dataframe\">\n",
       "  <thead>\n",
       "    <tr style=\"text-align: right;\">\n",
       "      <th></th>\n",
       "      <th>Unnamed: 0</th>\n",
       "      <th>facility type</th>\n",
       "      <th>Access days time fr</th>\n",
       "      <th>open_date</th>\n",
       "      <th>latitude</th>\n",
       "      <th>longitude</th>\n",
       "      <th>street address</th>\n",
       "      <th>city</th>\n",
       "      <th>zip</th>\n",
       "      <th>state</th>\n",
       "      <th>_id</th>\n",
       "    </tr>\n",
       "  </thead>\n",
       "  <tbody>\n",
       "    <tr>\n",
       "      <th>0</th>\n",
       "      <td>0</td>\n",
       "      <td>NaN</td>\n",
       "      <td>NaN</td>\n",
       "      <td>2017-09-01</td>\n",
       "      <td>34.785416</td>\n",
       "      <td>-86.942864</td>\n",
       "      <td>21282 Athens-Limestone Blvd.</td>\n",
       "      <td>Athens</td>\n",
       "      <td>35613</td>\n",
       "      <td>AL</td>\n",
       "      <td>624f1ad6d4d1951facd1c842</td>\n",
       "    </tr>\n",
       "    <tr>\n",
       "      <th>1</th>\n",
       "      <td>1</td>\n",
       "      <td>NaN</td>\n",
       "      <td>NaN</td>\n",
       "      <td>2015-01-01</td>\n",
       "      <td>32.627837</td>\n",
       "      <td>-85.445105</td>\n",
       "      <td>1627 Opelika Road</td>\n",
       "      <td>Auburn</td>\n",
       "      <td>36830</td>\n",
       "      <td>AL</td>\n",
       "      <td>624f1ad6d4d1951facd1c842</td>\n",
       "    </tr>\n",
       "    <tr>\n",
       "      <th>2</th>\n",
       "      <td>2</td>\n",
       "      <td>NaN</td>\n",
       "      <td>NaN</td>\n",
       "      <td>2016-12-01</td>\n",
       "      <td>33.525826</td>\n",
       "      <td>-86.807072</td>\n",
       "      <td>2221 Richard Arrington Junior Blvd.</td>\n",
       "      <td>Birmingham</td>\n",
       "      <td>35203</td>\n",
       "      <td>AL</td>\n",
       "      <td>624f1ad6d4d1951facd1c842</td>\n",
       "    </tr>\n",
       "    <tr>\n",
       "      <th>3</th>\n",
       "      <td>3</td>\n",
       "      <td>NaN</td>\n",
       "      <td>NaN</td>\n",
       "      <td>2015-01-01</td>\n",
       "      <td>31.855989</td>\n",
       "      <td>-86.635765</td>\n",
       "      <td>219 Interstate Drive</td>\n",
       "      <td>Greenville</td>\n",
       "      <td>36037</td>\n",
       "      <td>AL</td>\n",
       "      <td>624f1ad6d4d1951facd1c842</td>\n",
       "    </tr>\n",
       "    <tr>\n",
       "      <th>4</th>\n",
       "      <td>4</td>\n",
       "      <td>NaN</td>\n",
       "      <td>NaN</td>\n",
       "      <td>2015-03-01</td>\n",
       "      <td>30.671556</td>\n",
       "      <td>-88.118644</td>\n",
       "      <td>3201 Airport Blvd</td>\n",
       "      <td>Mobile</td>\n",
       "      <td>36606</td>\n",
       "      <td>AL</td>\n",
       "      <td>624f1ad6d4d1951facd1c842</td>\n",
       "    </tr>\n",
       "  </tbody>\n",
       "</table>\n",
       "</div>"
      ],
      "text/plain": [
       "   Unnamed: 0 facility type  Access days time fr   open_date   latitude  \\\n",
       "0           0           NaN                  NaN  2017-09-01  34.785416   \n",
       "1           1           NaN                  NaN  2015-01-01  32.627837   \n",
       "2           2           NaN                  NaN  2016-12-01  33.525826   \n",
       "3           3           NaN                  NaN  2015-01-01  31.855989   \n",
       "4           4           NaN                  NaN  2015-03-01  30.671556   \n",
       "\n",
       "   longitude                       street address        city    zip state  \\\n",
       "0 -86.942864         21282 Athens-Limestone Blvd.      Athens  35613    AL   \n",
       "1 -85.445105                    1627 Opelika Road      Auburn  36830    AL   \n",
       "2 -86.807072  2221 Richard Arrington Junior Blvd.  Birmingham  35203    AL   \n",
       "3 -86.635765                 219 Interstate Drive  Greenville  36037    AL   \n",
       "4 -88.118644                    3201 Airport Blvd      Mobile  36606    AL   \n",
       "\n",
       "                        _id  \n",
       "0  624f1ad6d4d1951facd1c842  \n",
       "1  624f1ad6d4d1951facd1c842  \n",
       "2  624f1ad6d4d1951facd1c842  \n",
       "3  624f1ad6d4d1951facd1c842  \n",
       "4  624f1ad6d4d1951facd1c842  "
      ]
     },
     "execution_count": 3,
     "metadata": {},
     "output_type": "execute_result"
    }
   ],
   "source": [
    "EV_data=pd.read_csv(\"output/evData_400.csv\")\n",
    "EV_data.head()"
   ]
  },
  {
   "cell_type": "markdown",
   "id": "c8986bec",
   "metadata": {},
   "source": [
    "### Collecting data for Volta "
   ]
  },
  {
   "cell_type": "code",
   "execution_count": null,
   "id": "3e3ffc88",
   "metadata": {},
   "outputs": [],
   "source": [
    "query_url=f'https://developer.nrel.gov/api/alt-fuel-stations/v1.json?fuel_type=ELEC&ev_network=Volta&api_key={EV_Api_key}'"
   ]
  },
  {
   "cell_type": "code",
   "execution_count": null,
   "id": "e638d8a1",
   "metadata": {},
   "outputs": [],
   "source": [
    "#access_code=[]\n",
    "facility_type=[]\n",
    "#access_days_time=[]\n",
    "access_days_time_fr=[]\n",
    "#ev_price=[]\n",
    "#ev_connector_type=[]\n",
    "open_date=[]\n",
    "street_address=[]\n",
    "city=[]\n",
    "zip=[]\n",
    "state=[]\n",
    "lat=[]\n",
    "lon=[]\n"
   ]
  },
  {
   "cell_type": "code",
   "execution_count": null,
   "id": "5129623a",
   "metadata": {},
   "outputs": [],
   "source": [
    "for i in range(300):\n",
    "    try:\n",
    "        response = requests.get(query_url).json()\n",
    "        #access_code.append(response['fuel_stations'][i]['access_code'])\n",
    "        facility_type.append(response['fuel_stations'][i]['facility_type'])\n",
    "        #access_days_time.append(response['fuel_stations'][i]['access_days_time'])\n",
    "        access_days_time_fr.append(response['fuel_stations'][i]['access_days_time_fr'])\n",
    "        #ev_price.append(response['fuel_stations'][i]['ev_pricing_fr'])\n",
    "        #ev_connector_type.append=(response['fuel_stations'][i]['ev_connector_types'])\n",
    "        open_date.append(response['fuel_stations'][i]['open_date'])\n",
    "        lat.append(response['fuel_stations'][i]['latitude'])\n",
    "        lon.append(response['fuel_stations'][i]['longitude'])\n",
    "\n",
    "        street_address.append(response['fuel_stations'][i]['street_address'])\n",
    "        city.append(response['fuel_stations'][i]['city'])\n",
    "        zip.append(response['fuel_stations'][i]['zip'])\n",
    "        state.append(response['fuel_stations'][i]['state'])\n",
    "        print(response['fuel_stations'][i]['city'])\n",
    "    except:\n",
    "        print('info not found')\n",
    "        pass"
   ]
  },
  {
   "cell_type": "markdown",
   "id": "1a469d3f",
   "metadata": {},
   "source": [
    "### Insert data to a Mongo Database"
   ]
  },
  {
   "cell_type": "code",
   "execution_count": null,
   "id": "f2b8bbb6",
   "metadata": {},
   "outputs": [],
   "source": [
    "# The default port used by MongoDB is 27017\n",
    "# https://docs.mongodb.com/manual/reference/default-mongodb-port/\n",
    "conn = 'mongodb://localhost:27017'\n",
    "client = pymongo.MongoClient(conn)\n",
    "\n",
    "# Declare the database\n",
    "db = client.EV_db\n",
    "\n",
    "# Declare the collection\n",
    "Volta = db.Volta"
   ]
  },
  {
   "cell_type": "code",
   "execution_count": null,
   "id": "d0ad3e10",
   "metadata": {},
   "outputs": [],
   "source": [
    "# Part I\n",
    "# A dictionary that represents the document to be inserted\n",
    "EV_dict_Volta = {\n",
    "    \"facility type\":facility_type,\n",
    "    \"Access days time fr\":access_days_time_fr,\n",
    "    \"open_date\":  open_date,\n",
    "    \"latitude\":lat,\n",
    "    \"longitude\":lon,\n",
    "    \"street address\":street_address,\n",
    "    \"city\":city,\n",
    "    \"zip\":zip,\n",
    "    \"state\": state\n",
    "}"
   ]
  },
  {
   "cell_type": "code",
   "execution_count": null,
   "id": "9524b061",
   "metadata": {},
   "outputs": [],
   "source": [
    "#Insert the document into the database\n",
    "# The database and collection, if they don't already exist, will be created at this point.\n",
    "Volta.insert_one(EV_dict_Volta)"
   ]
  },
  {
   "cell_type": "code",
   "execution_count": null,
   "id": "daedd568",
   "metadata": {},
   "outputs": [],
   "source": [
    "# Verify results:\n",
    "results = tesla.find()\n",
    "for result in results:\n",
    "    print(result)"
   ]
  },
  {
   "cell_type": "markdown",
   "id": "16a40d5b",
   "metadata": {},
   "source": [
    "### Insert data to a Panda dataFrame and convert to CSV file"
   ]
  },
  {
   "cell_type": "code",
   "execution_count": null,
   "id": "d72bda0e",
   "metadata": {},
   "outputs": [],
   "source": [
    "EV_dict_Volta = pd.DataFrame(EV_dict_Volta)\n",
    "EV_dict_Volta"
   ]
  },
  {
   "cell_type": "code",
   "execution_count": null,
   "id": "fa5d7f09",
   "metadata": {},
   "outputs": [],
   "source": [
    "#EV_dict_Volta.to_csv(\"output/evVoltaData_100.csv\", index=True, header=True)"
   ]
  },
  {
   "cell_type": "code",
   "execution_count": null,
   "id": "3beff5da",
   "metadata": {},
   "outputs": [],
   "source": [
    "EV_dict_Volta.to_csv(\"output/evVoltaData_200.csv\", index=True, header=True)"
   ]
  },
  {
   "cell_type": "code",
   "execution_count": 5,
   "id": "0e83e78b",
   "metadata": {},
   "outputs": [
    {
     "data": {
      "text/html": [
       "<div>\n",
       "<style scoped>\n",
       "    .dataframe tbody tr th:only-of-type {\n",
       "        vertical-align: middle;\n",
       "    }\n",
       "\n",
       "    .dataframe tbody tr th {\n",
       "        vertical-align: top;\n",
       "    }\n",
       "\n",
       "    .dataframe thead th {\n",
       "        text-align: right;\n",
       "    }\n",
       "</style>\n",
       "<table border=\"1\" class=\"dataframe\">\n",
       "  <thead>\n",
       "    <tr style=\"text-align: right;\">\n",
       "      <th></th>\n",
       "      <th>Unnamed: 0</th>\n",
       "      <th>facility type</th>\n",
       "      <th>Access days time fr</th>\n",
       "      <th>open_date</th>\n",
       "      <th>latitude</th>\n",
       "      <th>longitude</th>\n",
       "      <th>street address</th>\n",
       "      <th>city</th>\n",
       "      <th>zip</th>\n",
       "      <th>state</th>\n",
       "      <th>_id</th>\n",
       "    </tr>\n",
       "  </thead>\n",
       "  <tbody>\n",
       "    <tr>\n",
       "      <th>0</th>\n",
       "      <td>0</td>\n",
       "      <td>SHOPPING_MALL</td>\n",
       "      <td>NaN</td>\n",
       "      <td>1998-05-30</td>\n",
       "      <td>34.241116</td>\n",
       "      <td>-118.556708</td>\n",
       "      <td>9301 Tampa Ave</td>\n",
       "      <td>Northridge</td>\n",
       "      <td>91324</td>\n",
       "      <td>CA</td>\n",
       "      <td>624f1b64d4d1951facd1c844</td>\n",
       "    </tr>\n",
       "    <tr>\n",
       "      <th>1</th>\n",
       "      <td>1</td>\n",
       "      <td>SHOPPING_CENTER</td>\n",
       "      <td>NaN</td>\n",
       "      <td>1998-05-30</td>\n",
       "      <td>34.156839</td>\n",
       "      <td>-118.434454</td>\n",
       "      <td>14006 Riverside Dr</td>\n",
       "      <td>Sherman Oaks</td>\n",
       "      <td>91423</td>\n",
       "      <td>CA</td>\n",
       "      <td>624f1b64d4d1951facd1c844</td>\n",
       "    </tr>\n",
       "    <tr>\n",
       "      <th>2</th>\n",
       "      <td>2</td>\n",
       "      <td>STATE_GOV</td>\n",
       "      <td>NaN</td>\n",
       "      <td>2012-02-15</td>\n",
       "      <td>21.307030</td>\n",
       "      <td>-157.857725</td>\n",
       "      <td>415 S Beretania St</td>\n",
       "      <td>Honolulu</td>\n",
       "      <td>96813</td>\n",
       "      <td>HI</td>\n",
       "      <td>624f1b64d4d1951facd1c844</td>\n",
       "    </tr>\n",
       "    <tr>\n",
       "      <th>3</th>\n",
       "      <td>3</td>\n",
       "      <td>MUNI_GOV</td>\n",
       "      <td>NaN</td>\n",
       "      <td>2012-02-15</td>\n",
       "      <td>21.302295</td>\n",
       "      <td>-157.861322</td>\n",
       "      <td>564 Pohukaina</td>\n",
       "      <td>Honolulu</td>\n",
       "      <td>96813</td>\n",
       "      <td>HI</td>\n",
       "      <td>624f1b64d4d1951facd1c844</td>\n",
       "    </tr>\n",
       "    <tr>\n",
       "      <th>4</th>\n",
       "      <td>4</td>\n",
       "      <td>NATL_PARK</td>\n",
       "      <td>NaN</td>\n",
       "      <td>2012-02-15</td>\n",
       "      <td>37.806099</td>\n",
       "      <td>-122.449461</td>\n",
       "      <td>1199 E Beach</td>\n",
       "      <td>San Francisco</td>\n",
       "      <td>94129</td>\n",
       "      <td>CA</td>\n",
       "      <td>624f1b64d4d1951facd1c844</td>\n",
       "    </tr>\n",
       "  </tbody>\n",
       "</table>\n",
       "</div>"
      ],
      "text/plain": [
       "   Unnamed: 0    facility type  Access days time fr   open_date   latitude  \\\n",
       "0           0    SHOPPING_MALL                  NaN  1998-05-30  34.241116   \n",
       "1           1  SHOPPING_CENTER                  NaN  1998-05-30  34.156839   \n",
       "2           2        STATE_GOV                  NaN  2012-02-15  21.307030   \n",
       "3           3         MUNI_GOV                  NaN  2012-02-15  21.302295   \n",
       "4           4        NATL_PARK                  NaN  2012-02-15  37.806099   \n",
       "\n",
       "    longitude      street address           city    zip state  \\\n",
       "0 -118.556708      9301 Tampa Ave     Northridge  91324    CA   \n",
       "1 -118.434454  14006 Riverside Dr   Sherman Oaks  91423    CA   \n",
       "2 -157.857725  415 S Beretania St       Honolulu  96813    HI   \n",
       "3 -157.861322       564 Pohukaina       Honolulu  96813    HI   \n",
       "4 -122.449461        1199 E Beach  San Francisco  94129    CA   \n",
       "\n",
       "                        _id  \n",
       "0  624f1b64d4d1951facd1c844  \n",
       "1  624f1b64d4d1951facd1c844  \n",
       "2  624f1b64d4d1951facd1c844  \n",
       "3  624f1b64d4d1951facd1c844  \n",
       "4  624f1b64d4d1951facd1c844  "
      ]
     },
     "execution_count": 5,
     "metadata": {},
     "output_type": "execute_result"
    }
   ],
   "source": [
    "EV_data_volta=pd.read_csv(\"output/evVoltaData_200.csv\")\n",
    "EV_data_volta.head()"
   ]
  },
  {
   "cell_type": "code",
   "execution_count": null,
   "id": "f27caea3",
   "metadata": {},
   "outputs": [],
   "source": []
  },
  {
   "cell_type": "code",
   "execution_count": null,
   "id": "cebbdc79",
   "metadata": {},
   "outputs": [],
   "source": []
  },
  {
   "cell_type": "code",
   "execution_count": null,
   "id": "9b11d71c",
   "metadata": {},
   "outputs": [],
   "source": []
  }
 ],
 "metadata": {
  "kernelspec": {
   "display_name": "Python 3 (ipykernel)",
   "language": "python",
   "name": "python3"
  },
  "language_info": {
   "codemirror_mode": {
    "name": "ipython",
    "version": 3
   },
   "file_extension": ".py",
   "mimetype": "text/x-python",
   "name": "python",
   "nbconvert_exporter": "python",
   "pygments_lexer": "ipython3",
   "version": "3.9.7"
  }
 },
 "nbformat": 4,
 "nbformat_minor": 5
}
