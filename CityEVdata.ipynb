{
 "cells": [
  {
   "cell_type": "code",
   "execution_count": null,
   "id": "3fdf4336",
   "metadata": {},
   "outputs": [],
   "source": [
    "# Dependencies and Setup\n",
    "import matplotlib.pyplot as plt\n",
    "import json5\n",
    "import pandas as pd\n",
    "import numpy as np\n",
    "import requests\n",
    "import time\n",
    "import pymongo\n",
    "from prettyprinter import pprint\n",
    "from datetime import datetime\n",
    "from scipy import stats\n",
    "from scipy.stats import linregress\n",
    "from citipy import citipy"
   ]
  },
  {
   "cell_type": "code",
   "execution_count": null,
   "id": "c042f1f2",
   "metadata": {},
   "outputs": [],
   "source": [
    "from config import EV_Api_key\n",
    "\n"
   ]
  },
  {
   "cell_type": "markdown",
   "id": "9671a6c6",
   "metadata": {},
   "source": [
    "### Collecting datasets for Tesla "
   ]
  },
  {
   "cell_type": "code",
   "execution_count": null,
   "id": "9a8699dd",
   "metadata": {},
   "outputs": [],
   "source": [
    "#base_url='https://JlcWLnHJWqVZXwivtOThPQXKQnLaKnWaY4qVXxBZ@developer.nrel.gov/api/alt-fuel-stations/v1.json?limit=1'"
   ]
  },
  {
   "cell_type": "code",
   "execution_count": null,
   "id": "51c5c868",
   "metadata": {},
   "outputs": [],
   "source": [
    "#query_url = f\"https://{EV_Api_key}@developer.nrel.gov/api/alt-fuel-stations/v1.json?limit=4\"\n",
    "#print(query_url )"
   ]
  },
  {
   "cell_type": "code",
   "execution_count": null,
   "id": "04ab1d26",
   "metadata": {},
   "outputs": [],
   "source": [
    "query_url=f'https://developer.nrel.gov/api/alt-fuel-stations/v1.json?fuel_type=ELEC&ev_network=Tesla&api_key={EV_Api_key}'"
   ]
  },
  {
   "cell_type": "code",
   "execution_count": null,
   "id": "0bea2a8a",
   "metadata": {},
   "outputs": [],
   "source": [
    "response=requests.get(query_url).json()\n",
    "#pprint(response)"
   ]
  },
  {
   "cell_type": "code",
   "execution_count": null,
   "id": "fdd0fad7",
   "metadata": {},
   "outputs": [],
   "source": [
    "Total=response['station_locator_url']\n",
    "print(Total)"
   ]
  },
  {
   "cell_type": "code",
   "execution_count": null,
   "id": "43c12d97",
   "metadata": {},
   "outputs": [],
   "source": [
    "ccc=response['station_counts']['total']\n",
    "print(ccc)"
   ]
  },
  {
   "cell_type": "code",
   "execution_count": null,
   "id": "e86e7393",
   "metadata": {},
   "outputs": [],
   "source": [
    "a=response['fuel_stations'][0]['access_code']\n",
    "print(a)"
   ]
  },
  {
   "cell_type": "code",
   "execution_count": null,
   "id": "0b06e9fd",
   "metadata": {},
   "outputs": [],
   "source": [
    "aa=c=response['fuel_stations'][0]['facility_type']\n",
    "print(c)"
   ]
  },
  {
   "cell_type": "code",
   "execution_count": null,
   "id": "b6047bc9",
   "metadata": {},
   "outputs": [],
   "source": [
    "jj=c=response['fuel_stations'][0]['access_days_time']\n",
    "print(jj)"
   ]
  },
  {
   "cell_type": "code",
   "execution_count": null,
   "id": "2de3dca5",
   "metadata": {},
   "outputs": [],
   "source": [
    "yy=response['fuel_stations'][0]['access_days_time']\n",
    "print(yy)"
   ]
  },
  {
   "cell_type": "code",
   "execution_count": null,
   "id": "5e4fc595",
   "metadata": {},
   "outputs": [],
   "source": [
    "hh=response['fuel_stations'][0]['ev_pricing']\n",
    "print(hh)"
   ]
  },
  {
   "cell_type": "code",
   "execution_count": null,
   "id": "fd1e93fe",
   "metadata": {},
   "outputs": [],
   "source": [
    "ii=response['fuel_stations'][0]['ev_connector_types'][0]\n",
    "print(ii)"
   ]
  },
  {
   "cell_type": "code",
   "execution_count": null,
   "id": "8c940059",
   "metadata": {},
   "outputs": [],
   "source": [
    "b=response['fuel_stations'][0]['open_date']\n",
    "print(b)"
   ]
  },
  {
   "cell_type": "code",
   "execution_count": null,
   "id": "134f9f7b",
   "metadata": {},
   "outputs": [],
   "source": [
    "latitude=response['fuel_stations'][0]['latitude']\n",
    "print(latitude)"
   ]
  },
  {
   "cell_type": "code",
   "execution_count": null,
   "id": "4fd3c977",
   "metadata": {},
   "outputs": [],
   "source": [
    "longitude=response['fuel_stations'][0]['longitude']\n",
    "print(longitude)"
   ]
  },
  {
   "cell_type": "code",
   "execution_count": null,
   "id": "da6778f4",
   "metadata": {},
   "outputs": [],
   "source": [
    "c=response['fuel_stations'][0]['facility_type']\n",
    "print(c)"
   ]
  },
  {
   "cell_type": "code",
   "execution_count": null,
   "id": "e07956d2",
   "metadata": {},
   "outputs": [],
   "source": [
    "dd=response['fuel_stations'][0]['street_address']\n",
    "print(dd)"
   ]
  },
  {
   "cell_type": "code",
   "execution_count": null,
   "id": "a9092f10",
   "metadata": {},
   "outputs": [],
   "source": [
    "e=response['fuel_stations'][0]['city']\n",
    "print(e)"
   ]
  },
  {
   "cell_type": "code",
   "execution_count": null,
   "id": "bb4a1a87",
   "metadata": {},
   "outputs": [],
   "source": [
    "f=response['fuel_stations'][0]['zip']\n",
    "print(f)"
   ]
  },
  {
   "cell_type": "code",
   "execution_count": null,
   "id": "1701fa71",
   "metadata": {},
   "outputs": [],
   "source": [
    "g=response['fuel_stations'][0]['state']\n",
    "print(g)"
   ]
  },
  {
   "cell_type": "code",
   "execution_count": null,
   "id": "a06d12fd",
   "metadata": {},
   "outputs": [],
   "source": []
  },
  {
   "cell_type": "code",
   "execution_count": null,
   "id": "5c9e6f58",
   "metadata": {},
   "outputs": [],
   "source": [
    "results=[]\n",
    "for i in range(10):\n",
    "    print(query_url)\n",
    "    try:\n",
    "        response = requests.get(query_url).json()\n",
    "        \n",
    "        #print(response['fuel_stations'])\n",
    "        for station in response['fuel_stations']:\n",
    "                 \n",
    "            EV_dict_tesla = {\n",
    "                \"access_code\":station['access_code'],\n",
    "                \"facility_type\":station['facility_type'],\n",
    "                \"ev_pricing\":station['ev_pricing'],\n",
    "                \"ev_connector_types\":station['ev_connector_types'][0],\n",
    "                \"access_days_time\":station['access_days_time'],\n",
    "                \"open_date\":  station['open_date'],\n",
    "                \"latitude\":station['latitude'],\n",
    "                \"longitude\":station['longitude'],\n",
    "                \"street_address\":station['street_address'],\n",
    "                \"city\":station['city'],\n",
    "                \"zip\":station['zip'],\n",
    "                \"state\":station['state']\n",
    "             \n",
    "\n",
    "            }\n",
    "            print(results)\n",
    "            results.append(EV_dict_tesla)\n",
    "       # print(response['fuel_stations'][i]['city'])\n",
    "    \n",
    "    except:\n",
    "        print('info not found')\n",
    "        pass\n",
    "        "
   ]
  },
  {
   "cell_type": "code",
   "execution_count": null,
   "id": "b68c3d41",
   "metadata": {},
   "outputs": [],
   "source": []
  },
  {
   "cell_type": "markdown",
   "id": "a3ba24c2",
   "metadata": {},
   "source": [
    "### Insert data to a Mongo Database"
   ]
  },
  {
   "cell_type": "code",
   "execution_count": null,
   "id": "50d28ff3",
   "metadata": {},
   "outputs": [],
   "source": [
    "# The default port used by MongoDB is 27017\n",
    "# https://docs.mongodb.com/manual/reference/default-mongodb-port/\n",
    "conn = 'mongodb://localhost:27017'\n",
    "client = pymongo.MongoClient(conn)\n",
    "\n",
    "# Declare the database\n",
    "db = client.EV_db\n",
    "\n",
    "# Declare the collection\n",
    "tesla = db.tesla"
   ]
  },
  {
   "cell_type": "code",
   "execution_count": null,
   "id": "f9c0ae59",
   "metadata": {},
   "outputs": [],
   "source": [
    "# Part I\n",
    "# A dictionary that represents the document to be inserted\n",
    "#results\n",
    "\n",
    "for document in results:\n",
    "    tesla.insert_one(document) "
   ]
  },
  {
   "cell_type": "code",
   "execution_count": null,
   "id": "12cca0e0",
   "metadata": {},
   "outputs": [],
   "source": [
    "#Insert the document into the database\n",
    "# The database and collection, if they don't already exist, will be created at this point.\n",
    "# tesla.insert_one(EV_dict_tesla)"
   ]
  },
  {
   "cell_type": "code",
   "execution_count": null,
   "id": "2e9a8d12",
   "metadata": {},
   "outputs": [],
   "source": [
    "# Verify results:\n",
    "results = tesla.find()\n",
    "for result in results:\n",
    "     print(result)"
   ]
  },
  {
   "cell_type": "markdown",
   "id": "c8986bec",
   "metadata": {},
   "source": [
    "### Collecting data for Volta "
   ]
  },
  {
   "cell_type": "code",
   "execution_count": null,
   "id": "3e3ffc88",
   "metadata": {},
   "outputs": [],
   "source": [
    "query_url=f'https://developer.nrel.gov/api/alt-fuel-stations/v1.json?fuel_type=ELEC&ev_network=Volta&api_key={EV_Api_key}'"
   ]
  },
  {
   "cell_type": "code",
   "execution_count": null,
   "id": "e638d8a1",
   "metadata": {},
   "outputs": [],
   "source": [
    "results=[]"
   ]
  },
  {
   "cell_type": "code",
   "execution_count": null,
   "id": "2c793479",
   "metadata": {},
   "outputs": [],
   "source": [
    "results=[]\n",
    "for i in range(10):\n",
    "    print(query_url)\n",
    "    try:\n",
    "        response = requests.get(query_url).json()\n",
    "        \n",
    "        #print(response['fuel_stations'])\n",
    "        for station in response['fuel_stations']:\n",
    "                 \n",
    "            EV_dict_Volta = {\n",
    "                \"facility type\":station['access_code'],\n",
    "                \"Access days time fr\":station['access_days_time_fr'],\n",
    "                \"open_date\":  station['open_date'],\n",
    "                \"latitude\":station['latitude'],\n",
    "                \"longitude\":station['longitude'],\n",
    "                \"street address\":station['street_address'],\n",
    "                \"city\":station['city'],\n",
    "                \"zip\":station['zip'],\n",
    "                \"state\":station['state']\n",
    "            }\n",
    "           # print(EV_dict_tesla)\n",
    "            results.append(EV_dict_Volta)\n",
    "       # print(response['fuel_stations'][i]['city'])\n",
    "    except:\n",
    "        print('info not found')\n",
    "        pass\n",
    "        "
   ]
  },
  {
   "cell_type": "code",
   "execution_count": null,
   "id": "5129623a",
   "metadata": {},
   "outputs": [],
   "source": []
  },
  {
   "cell_type": "markdown",
   "id": "1a469d3f",
   "metadata": {},
   "source": [
    "### Insert Volta data to a Mongo Database"
   ]
  },
  {
   "cell_type": "code",
   "execution_count": null,
   "id": "f2b8bbb6",
   "metadata": {},
   "outputs": [],
   "source": [
    "# The default port used by MongoDB is 27017\n",
    "# https://docs.mongodb.com/manual/reference/default-mongodb-port/\n",
    "conn = 'mongodb://localhost:27017'\n",
    "client = pymongo.MongoClient(conn)\n",
    "\n",
    "# Declare the database\n",
    "db = client.EV_db\n",
    "\n",
    "# Declare the collection\n",
    "Volta = db.Volta"
   ]
  },
  {
   "cell_type": "code",
   "execution_count": null,
   "id": "9524b061",
   "metadata": {},
   "outputs": [],
   "source": [
    "# Part I\n",
    "# A dictionary that represents the document to be inserted\n",
    "#results\n",
    "\n",
    "for document in results:\n",
    "    Volta.insert_one(document) "
   ]
  },
  {
   "cell_type": "code",
   "execution_count": null,
   "id": "a4dac7ec",
   "metadata": {},
   "outputs": [],
   "source": []
  },
  {
   "cell_type": "code",
   "execution_count": null,
   "id": "daedd568",
   "metadata": {},
   "outputs": [],
   "source": [
    "# Verify results:\n",
    "results = tesla.find()\n",
    "for result in results:\n",
    "    print(result)"
   ]
  },
  {
   "cell_type": "markdown",
   "id": "c6a9ccfa",
   "metadata": {},
   "source": [
    "### Collecting data for Greenlots"
   ]
  },
  {
   "cell_type": "code",
   "execution_count": null,
   "id": "cebbdc79",
   "metadata": {},
   "outputs": [],
   "source": [
    "query_url=f'https://developer.nrel.gov/api/alt-fuel-stations/v1.json?fuel_type=ELEC&ev_network=Greenlots&api_key={EV_Api_key}'"
   ]
  },
  {
   "cell_type": "code",
   "execution_count": null,
   "id": "9b11d71c",
   "metadata": {},
   "outputs": [],
   "source": [
    "response=requests.get(query_url).json()\n",
    "pprint(response)"
   ]
  },
  {
   "cell_type": "code",
   "execution_count": null,
   "id": "3753cbf0",
   "metadata": {},
   "outputs": [],
   "source": [
    "results=[]\n",
    "for i in range(10):\n",
    "    print(query_url)\n",
    "    try:\n",
    "        response = requests.get(query_url).json()\n",
    "        \n",
    "        #print(response['fuel_stations'])\n",
    "        for station in response['fuel_stations']:\n",
    "                 \n",
    "            EV_dict_Greenlots = {\n",
    "                \"facility type\":station['access_code'],\n",
    "                \"Access days time fr\":station['access_days_time_fr'],\n",
    "                \"open_date\":  station['open_date'],\n",
    "                \"latitude\":station['latitude'],\n",
    "                \"longitude\":station['longitude'],\n",
    "                \"street address\":station['street_address'],\n",
    "                \"city\":station['city'],\n",
    "                \"zip\":station['zip'],\n",
    "                \"state\":station['state']\n",
    "            }\n",
    "           # print(EV_dict_tesla)\n",
    "            results.append(EV_dict_Greenlots)\n",
    "       # print(response['fuel_stations'][i]['city'])\n",
    "    except:\n",
    "        print('info not found')\n",
    "        pass\n",
    "        "
   ]
  },
  {
   "cell_type": "markdown",
   "id": "3b3037b5",
   "metadata": {},
   "source": [
    "### Insert Greenlots data to a Mongo Database\n"
   ]
  },
  {
   "cell_type": "code",
   "execution_count": null,
   "id": "ade2428f",
   "metadata": {},
   "outputs": [],
   "source": [
    "# The default port used by MongoDB is 27017\n",
    "# https://docs.mongodb.com/manual/reference/default-mongodb-port/\n",
    "conn = 'mongodb://localhost:27017'\n",
    "client = pymongo.MongoClient(conn)\n",
    "\n",
    "# Declare the database\n",
    "db = client.EV_db\n",
    "\n",
    "# Declare the collection\n",
    "Greenlots = db.Greenlots"
   ]
  },
  {
   "cell_type": "code",
   "execution_count": null,
   "id": "3d2bac73",
   "metadata": {},
   "outputs": [],
   "source": [
    "# Part I\n",
    "# A dictionary that represents the document to be inserted\n",
    "#results\n",
    "\n",
    "for document in results:\n",
    "    Greenlots.insert_one(document) "
   ]
  },
  {
   "cell_type": "code",
   "execution_count": null,
   "id": "e55a8711",
   "metadata": {},
   "outputs": [],
   "source": [
    "# Verify results:\n",
    "results = tesla.find()\n",
    "for result in results:\n",
    "    print(result)"
   ]
  },
  {
   "cell_type": "code",
   "execution_count": null,
   "id": "4561b8b9",
   "metadata": {},
   "outputs": [],
   "source": []
  }
 ],
 "metadata": {
  "kernelspec": {
   "display_name": "Python 3 (ipykernel)",
   "language": "python",
   "name": "python3"
  },
  "language_info": {
   "codemirror_mode": {
    "name": "ipython",
    "version": 3
   },
   "file_extension": ".py",
   "mimetype": "text/x-python",
   "name": "python",
   "nbconvert_exporter": "python",
   "pygments_lexer": "ipython3",
   "version": "3.9.7"
  }
 },
 "nbformat": 4,
 "nbformat_minor": 5
}
